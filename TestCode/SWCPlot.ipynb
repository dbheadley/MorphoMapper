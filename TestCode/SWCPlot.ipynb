{
 "cells": [
  {
   "cell_type": "markdown",
   "metadata": {},
   "source": [
    "# Testing space for SWC plotting function"
   ]
  },
  {
   "cell_type": "code",
   "execution_count": 7,
   "metadata": {},
   "outputs": [],
   "source": [
    "import os\n",
    "import numpy as np\n",
    "import pandas as pd\n",
    "import matplotlib.pyplot as plt\n",
    "from matplotlib.patches import Polygon\n",
    "from matplotlib.collections import PatchCollection"
   ]
  },
  {
   "cell_type": "code",
   "execution_count": 53,
   "metadata": {},
   "outputs": [],
   "source": [
    "swc_file = 'cell1'\n",
    "segs = pd.read_csv('../MorphoFiles/{x}.swc'.format(x=swc_file),comment='#',sep=' ', \n",
    "    names=['id','type','x','y','z','r','pid'])"
   ]
  },
  {
   "cell_type": "code",
   "execution_count": 54,
   "metadata": {},
   "outputs": [
    {
     "data": {
      "text/plain": [
       "Index(['id', 'type', 'x', 'y', 'z', 'r', 'pid', 'id_p', 'type_p', 'x_p', 'y_p',\n",
       "       'z_p', 'r_p', 'pid_p'],\n",
       "      dtype='object')"
      ]
     },
     "execution_count": 54,
     "metadata": {},
     "output_type": "execute_result"
    }
   ],
   "source": [
    "segs = segs.merge(segs,left_on='id',right_on='pid',suffixes=[None, '_p'])\n",
    "segs.columns"
   ]
  },
  {
   "cell_type": "code",
   "execution_count": 55,
   "metadata": {},
   "outputs": [
    {
     "name": "stdout",
     "output_type": "stream",
     "text": [
      "[[-1.0000000e-01 -1.2246468e-17]\n",
      " [ 1.0000000e-01  0.0000000e+00]\n",
      " [ 1.0000000e-01 -1.0000000e+00]\n",
      " [-1.0000000e-01 -1.0000000e+00]]\n"
     ]
    },
    {
     "data": {
      "image/png": "[encoded data removed]",
      "text/plain": [
       "<Figure size 432x288 with 1 Axes>"
      ]
     },
     "metadata": {
      "needs_background": "light"
     },
     "output_type": "display_data"
    }
   ],
   "source": [
    "patches = []\n",
    "\n",
    "def seg2coords(s_x,s_y,e_x,e_y,s_r,e_r):\n",
    "    # s_ prefix for start seg\n",
    "    # e_ prefix for end seg\n",
    "    # x is x-coord, y is y-coord, r is radius\n",
    "\n",
    "    seg_ang = np.angle((e_x-s_x)+(e_y-s_y)*1j) \n",
    "    pt11x = s_x+s_r*np.cos(seg_ang-(np.pi/2))\n",
    "    pt11y = s_y+s_r*np.sin(seg_ang-(np.pi/2))\n",
    "    \n",
    "    pt12x = s_x+s_r*np.cos(seg_ang+(np.pi/2))\n",
    "    pt12y = s_y+s_r*np.sin(seg_ang+(np.pi/2))\n",
    "\n",
    "    pt21x = e_x+e_r*np.cos(seg_ang-(np.pi/2))\n",
    "    pt21y = e_y+e_r*np.sin(seg_ang-(np.pi/2))\n",
    "    \n",
    "    pt22x = e_x+e_r*np.cos(seg_ang+(np.pi/2))\n",
    "    pt22y = e_y+e_r*np.sin(seg_ang+(np.pi/2))\n",
    "\n",
    "    coords = [[pt11x, pt11y], [pt12x, pt12y], [pt22x, pt22y], [pt21x, pt21y]]\n",
    "\n",
    "    return np.array(coords)\n",
    "\n",
    "test = seg2coords(0,0,0,-1,0.1,0.1)\n",
    "print(test)\n",
    "pgon = Polygon(test,True)\n",
    "patches.append(pgon)\n",
    "\n",
    "p = PatchCollection(patches)\n",
    "\n",
    "fig, ax = plt.subplots()\n",
    "ax.add_collection(p)\n",
    "plt.xlim(-5, 5)\n",
    "plt.ylim(-5, 5)\n",
    "plt.show()"
   ]
  },
  {
   "cell_type": "code",
   "execution_count": 56,
   "metadata": {},
   "outputs": [
    {
     "data": {
      "image/png": "[encoded data removed]",
      "text/plain": [
       "<Figure size 432x288 with 1 Axes>"
      ]
     },
     "metadata": {
      "needs_background": "light"
     },
     "output_type": "display_data"
    },
    {
     "ename": "AttributeError",
     "evalue": "module 'matplotlib.pyplot' has no attribute 'save'",
     "output_type": "error",
     "traceback": [
      "\u001b[0;31m---------------------------------------------------------------------------\u001b[0m",
      "\u001b[0;31mAttributeError\u001b[0m                            Traceback (most recent call last)",
      "\u001b[0;32m/var/folders/qz/bv9xctkn7n7c6jl3pc_7dl9h0000gn/T/ipykernel_58449/1511650208.py\u001b[0m in \u001b[0;36m<module>\u001b[0;34m\u001b[0m\n\u001b[1;32m     13\u001b[0m \u001b[0mplt\u001b[0m\u001b[0;34m.\u001b[0m\u001b[0mylim\u001b[0m\u001b[0;34m(\u001b[0m\u001b[0;34m-\u001b[0m\u001b[0;36m250\u001b[0m\u001b[0;34m,\u001b[0m \u001b[0;36m1500\u001b[0m\u001b[0;34m)\u001b[0m\u001b[0;34m\u001b[0m\u001b[0;34m\u001b[0m\u001b[0m\n\u001b[1;32m     14\u001b[0m \u001b[0mplt\u001b[0m\u001b[0;34m.\u001b[0m\u001b[0mshow\u001b[0m\u001b[0;34m(\u001b[0m\u001b[0;34m)\u001b[0m\u001b[0;34m\u001b[0m\u001b[0;34m\u001b[0m\u001b[0m\n\u001b[0;32m---> 15\u001b[0;31m \u001b[0mplt\u001b[0m\u001b[0;34m.\u001b[0m\u001b[0msave\u001b[0m\u001b[0;34m(\u001b[0m\u001b[0;34m'../Figures/{x}.svg'\u001b[0m\u001b[0;34m.\u001b[0m\u001b[0mformat\u001b[0m\u001b[0;34m(\u001b[0m\u001b[0mx\u001b[0m\u001b[0;34m=\u001b[0m\u001b[0mswc_file\u001b[0m\u001b[0;34m)\u001b[0m\u001b[0;34m)\u001b[0m\u001b[0;34m\u001b[0m\u001b[0;34m\u001b[0m\u001b[0m\n\u001b[0m",
      "\u001b[0;31mAttributeError\u001b[0m: module 'matplotlib.pyplot' has no attribute 'save'"
     ]
    }
   ],
   "source": [
    "patches = []\n",
    "for idx, curr_row in segs.iterrows():\n",
    "    curr_poly = Polygon(seg2coords(curr_row['x'],curr_row['y'], \n",
    "        curr_row['x_p'],curr_row['y_p'],curr_row['r'],curr_row['r_p']),True)\n",
    "    patches.append(curr_poly)\n",
    "\n",
    "p = PatchCollection(patches)\n",
    "p.set_facecolor('k')\n",
    "fig, ax = plt.subplots()\n",
    "ax.add_collection(p)\n",
    "ax.axis('equal')\n",
    "plt.xlim(-300, 300)\n",
    "plt.ylim(-250, 1500)\n",
    "plt.show()\n",
    "plt.savefig('../Figures/{x}.svg'.format(x=swc_file))\n"
   ]
  }
 ],
 "metadata": {
  "kernelspec": {
   "display_name": "Python 3.9.7 ('base')",
   "language": "python",
   "name": "python3"
  },
  "language_info": {
   "codemirror_mode": {
    "name": "ipython",
    "version": 3
   },
   "file_extension": ".py",
   "mimetype": "text/x-python",
   "name": "python",
   "nbconvert_exporter": "python",
   "pygments_lexer": "ipython3",
   "version": "3.9.7"
  },
  "orig_nbformat": 4,
  "vscode": {
   "interpreter": {
    "hash": "0a9186c0f8abefcfc2ef00a836546988abf01f629b4c742e0440d03042138943"
   }
  }
 },
 "nbformat": 4,
 "nbformat_minor": 2
}
